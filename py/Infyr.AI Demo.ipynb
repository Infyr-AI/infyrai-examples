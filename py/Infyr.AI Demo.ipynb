{
 "cells": [
  {
   "cell_type": "markdown",
   "id": "48f8c710-fd97-4b47-8d70-af2b2cc9063e",
   "metadata": {},
   "source": [
    "# Infyr.AI "
   ]
  },
  {
   "cell_type": "markdown",
   "id": "b76b814d-da0c-4283-8918-83e8ce999096",
   "metadata": {},
   "source": [
    "## Visit [Infyr.AI](https://infyr.ai) for API keys"
   ]
  },
  {
   "cell_type": "markdown",
   "id": "c64b88c9-87e3-425d-92a1-7e3e698a5d8c",
   "metadata": {},
   "source": [
    "## Demo (continued)\n",
    "- Python SDK on Jupyter\n",
    "    - OpenAI (Live Demo)\n",
    "    - Agno (Live Demo)\n",
    "    - Langchain (Live Demo)\n",
    "    - CrewAI (Coming soon)\n",
    "    - NextJS ([Code link](https://github.com/Infyr-AI/infyrai-examples/tree/main/js/chatbot-nextjs-example))\n",
    "  - Streamlit App ([Code link](https://github.com/Infyr-AI/infyrai-examples/blob/main/py/chat_bot.py))\n",
    "  - Important resources ([GitHub Link](https://github.com/Infyr-AI/infyrai-examples/tree/main))"
   ]
  },
  {
   "cell_type": "markdown",
   "id": "01b0a097-6d12-4209-b229-70b83a3eacb9",
   "metadata": {},
   "source": [
    "### Requirements"
   ]
  },
  {
   "cell_type": "markdown",
   "id": "8e419eb6-ac0c-4c57-bb88-4e3cfdc24da3",
   "metadata": {},
   "source": [
    "```bash\n",
    "python -V # python 3.12 or above\n",
    "uv add openai # or pip install openai\n",
    "```"
   ]
  },
  {
   "cell_type": "markdown",
   "id": "c57d2afd-3c83-4f5a-8c34-d82e93391f8c",
   "metadata": {},
   "source": [
    "## Example #1 - Python SDK"
   ]
  },
  {
   "cell_type": "code",
   "execution_count": 1,
   "id": "641fa1b9-1401-46b9-a67e-36dd90c16bfc",
   "metadata": {},
   "outputs": [],
   "source": [
    "from openai import OpenAI\n",
    "\n",
    "base_url = 'http://api.infyr.ai/v1'\n",
    "api_key = '<replace this with your key from InfyrAI'\n",
    "\n",
    "client = OpenAI(\n",
    "    base_url = base_url,\n",
    "    api_key= api_key,\n",
    ")"
   ]
  },
  {
   "cell_type": "markdown",
   "id": "45b7121b-efc1-468b-be78-30b2be66ecf6",
   "metadata": {},
   "source": [
    "### Non streaming"
   ]
  },
  {
   "cell_type": "code",
   "execution_count": 5,
   "id": "af1735d7-f634-4a9f-a407-155bea8a1131",
   "metadata": {},
   "outputs": [
    {
     "name": "stdout",
     "output_type": "stream",
     "text": [
      "The 2020 World Series was played at Globe Life Field in Arlington, Texas. The Tampa Bay Rays were the opposing team. The Los Angeles Dodgers won the series 4 games to 2. Globe Life Field was used as a neutral site due to COVID-19 pandemic restrictions.\n"
     ]
    }
   ],
   "source": [
    "response = client.chat.completions.create(\n",
    "    temperature=0,\n",
    "  model=\"llama4-maverick\",\n",
    "    seed=42,\n",
    "  messages=[\n",
    "    {\"role\": \"system\", \"content\": \"You are a helpful assistant.\"},\n",
    "    {\"role\": \"user\", \"content\": \"Who won the world series in 2020?\"},\n",
    "    {\"role\": \"assistant\", \"content\": \"The L|A Dodgers won in 2020.\"},\n",
    "    {\"role\": \"user\", \"content\": \"Where was it played?\"}\n",
    "  ]\n",
    ")\n",
    "print(response.choices[0].message.content)"
   ]
  },
  {
   "cell_type": "markdown",
   "id": "ea417492-77e5-49a8-8ff2-94aaa06a55e4",
   "metadata": {},
   "source": [
    "### Streaming"
   ]
  },
  {
   "cell_type": "code",
   "execution_count": 6,
   "id": "207a2865-8410-4f0d-a342-1a138e77be77",
   "metadata": {},
   "outputs": [
    {
     "name": "stdout",
     "output_type": "stream",
     "text": [
      "<think>\n",
      "Alright, the user just asked where the 2020 World Series was played. I remember that in 2020, things were different because of COVID-19. So, I think they might be curious about how the pandemic affected the location.\n",
      "\n",
      "I should mention that it was held at Globe Life Field in Arlington, Texas. But wait, wasn't that a neutral site? Yeah, usually each team hosts games at their home stadium, but in 2020 they changed it to a single location for safety reasons.\n",
      "\n",
      "I should explain why it was different that year. Maybe also note that this was the first time it happened since 1945 or something like that. That adds context about how unusual it was.\n",
      "\n",
      "The user might not know much about baseball history or how COVID impacted sports events. So keeping it clear and concise would help them understand better.\n",
      "</think>\n",
      "\n",
      "The 2020 World Series was held at **Globe Life Field** in Arlington, Texas. This was a unique situation due to the COVID-19 pandemic, as all games were played at a neutral site rather than alternating between the home stadiums of the participating teams (the Los Angeles Dodgers and Tampa Bay Rays). It marked the first time since 1945 (during World War II) that all World Series\n",
      "\n",
      "Full message: <think>\n",
      "Alright, the user just asked where the 2020 World Series was played. I remember that in 2020, things were different because of COVID-19. So, I think they might be curious about how the pandemic affected the location.\n",
      "\n",
      "I should mention that it was held at Globe Life Field in Arlington, Texas. But wait, wasn't that a neutral site? Yeah, usually each team hosts games at their home stadium, but in 2020 they changed it to a single location for safety reasons.\n",
      "\n",
      "I should explain why it was different that year. Maybe also note that this was the first time it happened since 1945 or something like that. That adds context about how unusual it was.\n",
      "\n",
      "The user might not know much about baseball history or how COVID impacted sports events. So keeping it clear and concise would help them understand better.\n",
      "</think>\n",
      "\n",
      "The 2020 World Series was held at **Globe Life Field** in Arlington, Texas. This was a unique situation due to the COVID-19 pandemic, as all games were played at a neutral site rather than alternating between the home stadiums of the participating teams (the Los Angeles Dodgers and Tampa Bay Rays). It marked the first time since 1945 (during World War II) that all World Series\n"
     ]
    }
   ],
   "source": [
    "# Create a streaming response\n",
    "stream = client.chat.completions.create(\n",
    "    temperature=0,\n",
    "    model=\"deepseek-70b\",\n",
    "    seed=42,\n",
    "    messages=[\n",
    "        {\"role\": \"system\", \"content\": \"You are a helpful assistant.\"},\n",
    "        {\"role\": \"user\", \"content\": \"Who won the world series in 2020?\"},\n",
    "        {\"role\": \"assistant\", \"content\": \"The L|A Dodgers won in 2020.\"},\n",
    "        {\"role\": \"user\", \"content\": \"Where was it played?\"}\n",
    "    ],\n",
    "    stream=True  # Enable streaming\n",
    ")\n",
    "\n",
    "# Process the streaming response\n",
    "collected_chunks = []\n",
    "collected_messages = []\n",
    "\n",
    "# Iterate through the stream of events\n",
    "for chunk in stream:\n",
    "    collected_chunks.append(chunk)  # Save the event\n",
    "    chunk_message = chunk.choices[0].delta.content  # Extract the message\n",
    "    \n",
    "    # If the chunk has content, print and save it\n",
    "    if chunk_message is not None:\n",
    "        print(f\"{chunk_message}\", end=\"\", flush=True)  # Print without newline\n",
    "        collected_messages.append(chunk_message)\n",
    "\n",
    "print()  # Add a newline at the end\n",
    "\n",
    "# Combine all the received content\n",
    "full_reply_content = \"\".join(collected_messages)\n",
    "print(f\"\\nFull message: {full_reply_content}\")"
   ]
  },
  {
   "cell_type": "markdown",
   "id": "6b616a3e-761a-43da-ba25-3ae4f9f464a3",
   "metadata": {},
   "source": [
    "## Example #2 Agno - One of the leading Agents Framework"
   ]
  },
  {
   "cell_type": "markdown",
   "id": "2504c80b-dc03-4a57-bfd1-015912e753d4",
   "metadata": {},
   "source": [
    "```bash\n",
    "uv add agno # or pip install agno\n",
    "```"
   ]
  },
  {
   "cell_type": "code",
   "execution_count": 7,
   "id": "a6915bb6-e329-4d33-8c82-936352b167e7",
   "metadata": {},
   "outputs": [],
   "source": [
    "import os\n",
    "from agno.agent import Agent\n",
    "from agno.tools.reasoning import ReasoningTools\n",
    "from agno.tools.yfinance import YFinanceTools\n",
    "from agno.models.openai import OpenAIChat\n",
    "\n",
    "os.environ[\"OPENAI_BASE_URL\"] = base_url\n",
    "os.environ[\"OPENAI_API_KEY\"] = api_key"
   ]
  },
  {
   "cell_type": "code",
   "execution_count": 8,
   "id": "33d983b9-5184-49ee-9ec6-82ab02debece",
   "metadata": {},
   "outputs": [
    {
     "name": "stdout",
     "output_type": "stream",
     "text": [
      "base_url='http://api.infyr.ai/v1'\n"
     ]
    }
   ],
   "source": [
    "print(f\"{base_url=}\")"
   ]
  },
  {
   "cell_type": "code",
   "execution_count": 9,
   "id": "8beecaa2-37df-4a38-a9bd-d62c8be16451",
   "metadata": {},
   "outputs": [
    {
     "data": {
      "application/vnd.jupyter.widget-view+json": {
       "model_id": "f837cc05b85d440aa28b5a6fce8f2bb0",
       "version_major": 2,
       "version_minor": 0
      },
      "text/plain": [
       "Output()"
      ]
     },
     "metadata": {},
     "output_type": "display_data"
    },
    {
     "data": {
      "text/html": [
       "<pre style=\"white-space:pre;overflow-x:auto;line-height:normal;font-family:Menlo,'DejaVu Sans Mono',consolas,'Courier New',monospace\"></pre>\n"
      ],
      "text/plain": []
     },
     "metadata": {},
     "output_type": "display_data"
    }
   ],
   "source": [
    "agent = Agent(\n",
    "    model=OpenAIChat(id=\"llama4-maverick\", max_tokens=1024),\n",
    "    tools=[\n",
    "        ReasoningTools(add_instructions=True),\n",
    "        YFinanceTools(stock_price=True, analyst_recommendations=True, company_info=True, company_news=True),\n",
    "    ],\n",
    "    instructions=[\n",
    "        \"Use tables to display data\",\n",
    "        \"Only output the report, no other text\",\n",
    "    ],\n",
    "    markdown=True,\n",
    ")\n",
    "agent.print_response(\"Write a report on NVDA\", stream=True, show_full_reasoning=True, stream_intermediate_steps=True)"
   ]
  },
  {
   "cell_type": "markdown",
   "id": "e476d48f-e1db-4497-a2f4-b142ea8db0a7",
   "metadata": {},
   "source": [
    "## Example #3 LangGraph"
   ]
  },
  {
   "cell_type": "markdown",
   "id": "347174ac-1221-4e16-9ef4-bf60141f1959",
   "metadata": {},
   "source": [
    "```bash\n",
    "uv add \"langchain[openai]\" langgraph # or pip install -U \"langchain[openai]\" langgraph\n",
    "```"
   ]
  },
  {
   "cell_type": "code",
   "execution_count": null,
   "id": "5d68bedd-1738-45a9-b9ae-15e4c7c27b4d",
   "metadata": {},
   "outputs": [],
   "source": [
    "import os\n",
    "from langgraph.prebuilt import create_react_agent\n",
    "\n",
    "os.environ[\"OPENAI_BASE_URL\"] = base_url\n",
    "os.environ[\"OPENAI_API_KEY\"] = api_key\n",
    "\n",
    "print(f\"{base_url}\")"
   ]
  },
  {
   "cell_type": "code",
   "execution_count": null,
   "id": "9805811a-be25-41e0-9669-c24aa4422947",
   "metadata": {},
   "outputs": [],
   "source": [
    "def get_weather(city: str) -> str:  \n",
    "    \"\"\"Get weather for a given city.\"\"\"\n",
    "    return f\"It's always sunny in {city}!\"\n",
    "\n",
    "agent = create_react_agent(\n",
    "    model=\"openai:llama4-scout\",\n",
    "    tools=[get_weather],  \n",
    "    prompt=\"You are a helpful assistant\"  \n",
    ")\n",
    "\n",
    "# Run the agent\n",
    "agent.invoke(\n",
    "    {\"messages\": [{\"role\": \"user\", \"content\": \"what is the weather in sf\"}]}\n",
    ")"
   ]
  },
  {
   "cell_type": "markdown",
   "id": "141f3fa5-956b-414b-aa5b-054ac9633bd0",
   "metadata": {},
   "source": [
    "### Example #4 - Streamlit app [link](http://localhost:8501/)"
   ]
  },
  {
   "cell_type": "markdown",
   "id": "0a212fba-19ae-48c2-8f9c-306a7c0e564a",
   "metadata": {},
   "source": [
    "### Example code [GitHub Link](https://github.com/Infyr-AI/infyrai-examples/tree/main)"
   ]
  },
  {
   "cell_type": "code",
   "execution_count": null,
   "id": "c20494aa-c8f6-4aa8-8bd7-7802bc89567e",
   "metadata": {},
   "outputs": [],
   "source": []
  }
 ],
 "metadata": {
  "kernelspec": {
   "display_name": "Python 3 (ipykernel)",
   "language": "python",
   "name": "python3"
  },
  "language_info": {
   "codemirror_mode": {
    "name": "ipython",
    "version": 3
   },
   "file_extension": ".py",
   "mimetype": "text/x-python",
   "name": "python",
   "nbconvert_exporter": "python",
   "pygments_lexer": "ipython3",
   "version": "3.12.9"
  }
 },
 "nbformat": 4,
 "nbformat_minor": 5
}
